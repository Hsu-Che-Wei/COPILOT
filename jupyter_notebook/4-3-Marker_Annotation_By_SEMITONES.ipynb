{
 "cells": [
  {
   "cell_type": "markdown",
   "metadata": {},
   "source": [
    "# Marker annotation by SEMITONES (calculating escore of markers) "
   ]
  },
  {
   "cell_type": "markdown",
   "metadata": {},
   "source": [
    "#### Note that we are in Python\n",
    "\n",
    "#### Working directory must contain subdirectories,supp_data\n",
    "\n",
    "#### supp_data/ should contain the files, which are available on Github (github.com/Hsu-Che-Wei/COPILOT):\n",
    "\n",
    "    Root_Atlas_SCT_expr.h5ad (get it by running through notebook 4-1)  \n",
    "    markers_for_SEMITONES.txt\n",
    "    hvg_ids.txt \n",
    "    r_cells.txt\n",
    "    umap50.txt (get it by running through notebook 4-2)\n",
    "    umap.txt (get it by running through notebook 4-2)"
   ]
  },
  {
   "cell_type": "markdown",
   "metadata": {},
   "source": [
    "### 1. Import all needed functions"
   ]
  },
  {
   "cell_type": "code",
   "execution_count": 1,
   "metadata": {},
   "outputs": [],
   "source": [
    "import numpy as np\n",
    "import numpy as np\n",
    "import pandas as pd\n",
    "import matplotlib.pyplot as plt\n",
    "from scipy.sparse import csr_matrix\n",
    "from SEMITONES.enrichment_scoring import calculate_escores\n",
    "from SEMITONES.enrichment_scoring import permute, sig_interval\n",
    "from SEMITONES.support_funcs import load_sparse_h5, pairwise_similarities\n",
    "from SEMITONES.support_funcs import sig_dictionary\n",
    "import anndata"
   ]
  },
  {
   "cell_type": "markdown",
   "metadata": {},
   "source": [
    "### 2. Load the data"
   ]
  },
  {
   "cell_type": "markdown",
   "metadata": {},
   "source": [
    "#### a. Gene x cell expression matrix\n",
    "I use matrices where rows are cells and columns are genes. I am not sure what data format you use, so if you cannot figure out how to load the data, please let me know. If you do not use sparse matrix formats, I would advise you to do so to prevent high memory requirements during the scoring. For this, you can take your matrix and use the csr_matrix function from scipy.sparse."
   ]
  },
  {
   "cell_type": "markdown",
   "metadata": {},
   "source": [
    "For this example, I use a subsetted matrix with only the most highly dispersed genes."
   ]
  },
  {
   "cell_type": "code",
   "execution_count": 2,
   "metadata": {},
   "outputs": [],
   "source": [
    "SCT = anndata.read_h5ad(\"./supp_data/Root_Atlas_SCT_expr.h5ad\")"
   ]
  },
  {
   "cell_type": "code",
   "execution_count": 3,
   "metadata": {},
   "outputs": [
    {
     "data": {
      "text/plain": [
       "AnnData object with n_obs × n_vars = 110427 × 24997\n",
       "    obs: 'CytoTRACE', 'celltype.anno', 'time.anno', 'time.celltype.anno', 'consensus.time', 'consensus.time.group'\n",
       "    obsm: 'X_pca', 'X_umap'"
      ]
     },
     "execution_count": 3,
     "metadata": {},
     "output_type": "execute_result"
    }
   ],
   "source": [
    "SCT"
   ]
  },
  {
   "cell_type": "code",
   "execution_count": 4,
   "metadata": {},
   "outputs": [],
   "source": [
    "HVG = SCT.X"
   ]
  },
  {
   "cell_type": "code",
   "execution_count": 5,
   "metadata": {},
   "outputs": [
    {
     "data": {
      "text/plain": [
       "scipy.sparse.csc.csc_matrix"
      ]
     },
     "execution_count": 5,
     "metadata": {},
     "output_type": "execute_result"
    }
   ],
   "source": [
    "type(HVG)"
   ]
  },
  {
   "cell_type": "code",
   "execution_count": 6,
   "metadata": {},
   "outputs": [
    {
     "data": {
      "text/plain": [
       "(110427, 24997)"
      ]
     },
     "execution_count": 6,
     "metadata": {},
     "output_type": "execute_result"
    }
   ],
   "source": [
    "HVG.shape"
   ]
  },
  {
   "cell_type": "code",
   "execution_count": 7,
   "metadata": {},
   "outputs": [],
   "source": [
    "# Load marker id \n",
    "fname = \"./supp_data/markers_for_SEMITONES.txt\"\n",
    "with open(fname, \"r\") as f:\n",
    "    cols_to_keep = [int(cell.strip(\"\\n\")) for cell in f.readlines()]\n",
    "f.close()"
   ]
  },
  {
   "cell_type": "code",
   "execution_count": 8,
   "metadata": {},
   "outputs": [],
   "source": [
    "HVG = HVG[:, cols_to_keep]"
   ]
  },
  {
   "cell_type": "code",
   "execution_count": 9,
   "metadata": {},
   "outputs": [
    {
     "data": {
      "text/plain": [
       "(110427, 46)"
      ]
     },
     "execution_count": 9,
     "metadata": {},
     "output_type": "execute_result"
    }
   ],
   "source": [
    "HVG.shape"
   ]
  },
  {
   "cell_type": "code",
   "execution_count": 10,
   "metadata": {},
   "outputs": [],
   "source": [
    "fname = \"./supp_data/hvg_ids.txt\"\n",
    "with open(fname, \"r\") as f:\n",
    "    hvg_names = [gene.strip(\"\\n\") for gene in f.readlines()]\n",
    "f.close()"
   ]
  },
  {
   "cell_type": "code",
   "execution_count": 11,
   "metadata": {},
   "outputs": [
    {
     "data": {
      "text/plain": [
       "list"
      ]
     },
     "execution_count": 11,
     "metadata": {},
     "output_type": "execute_result"
    }
   ],
   "source": [
    "type(hvg_names)"
   ]
  },
  {
   "cell_type": "code",
   "execution_count": 12,
   "metadata": {},
   "outputs": [
    {
     "data": {
      "text/plain": [
       "24997"
      ]
     },
     "execution_count": 12,
     "metadata": {},
     "output_type": "execute_result"
    }
   ],
   "source": [
    "len(hvg_names)"
   ]
  },
  {
   "cell_type": "code",
   "execution_count": 13,
   "metadata": {},
   "outputs": [],
   "source": [
    "hvg_names = list( hvg_names[i] for i in cols_to_keep )"
   ]
  },
  {
   "cell_type": "code",
   "execution_count": 14,
   "metadata": {},
   "outputs": [
    {
     "data": {
      "text/plain": [
       "46"
      ]
     },
     "execution_count": 14,
     "metadata": {},
     "output_type": "execute_result"
    }
   ],
   "source": [
    "len(hvg_names)"
   ]
  },
  {
   "cell_type": "code",
   "execution_count": 15,
   "metadata": {},
   "outputs": [
    {
     "data": {
      "text/plain": [
       "['AT1G79840',\n",
       " 'AT3G28540',\n",
       " 'AT5G48130',\n",
       " 'AT1G17400',\n",
       " 'AT1G33280',\n",
       " 'AT4G10350',\n",
       " 'AT1G79580',\n",
       " 'AT1G62500',\n",
       " 'AT1G62510',\n",
       " 'AT2G40260',\n",
       " 'AT2G29330',\n",
       " 'AT3G56220',\n",
       " 'AT3G61930',\n",
       " 'AT1G16390',\n",
       " 'AT1G30750',\n",
       " 'AT3G54220',\n",
       " 'AT4G16270',\n",
       " 'AT5G46600',\n",
       " 'AT5G57620',\n",
       " 'AT5G14750',\n",
       " 'AT5G19530',\n",
       " 'AT2G31310',\n",
       " 'AT1G79430',\n",
       " 'AT4G36410',\n",
       " 'AT5G04080',\n",
       " 'AT2G22850',\n",
       " 'AT1G04240',\n",
       " 'AT1G71050',\n",
       " 'AT1G71930',\n",
       " 'AT3G25710',\n",
       " 'AT4G18780',\n",
       " 'AT2G04025',\n",
       " 'AT2G18380',\n",
       " 'AT5G62940',\n",
       " 'AT3G20880',\n",
       " 'AT3G26120',\n",
       " 'AT5G60810',\n",
       " 'AT3G55550',\n",
       " 'AT3G60650',\n",
       " 'AT1G66470',\n",
       " 'AT4G13390',\n",
       " 'AT5G37800',\n",
       " 'AT5G49270',\n",
       " 'AT5G58010',\n",
       " 'AT2G36120',\n",
       " 'AT4G30450']"
      ]
     },
     "execution_count": 15,
     "metadata": {},
     "output_type": "execute_result"
    }
   ],
   "source": [
    "hvg_names"
   ]
  },
  {
   "cell_type": "markdown",
   "metadata": {},
   "source": [
    "#### b. Reference cells"
   ]
  },
  {
   "cell_type": "code",
   "execution_count": 16,
   "metadata": {},
   "outputs": [],
   "source": [
    "fname = \"./supp_data/r_cells.txt\"\n",
    "with open(fname, \"r\") as f:\n",
    "    r_cells = [int(cell.strip(\"\\n\")) for cell in f.readlines()]\n",
    "f.close()"
   ]
  },
  {
   "cell_type": "code",
   "execution_count": 17,
   "metadata": {},
   "outputs": [],
   "source": [
    "r_cells = np.arange(HVG.shape[0])"
   ]
  },
  {
   "cell_type": "code",
   "execution_count": 18,
   "metadata": {},
   "outputs": [],
   "source": [
    "r_cells = r_cells.tolist()"
   ]
  },
  {
   "cell_type": "code",
   "execution_count": 19,
   "metadata": {},
   "outputs": [
    {
     "data": {
      "text/plain": [
       "list"
      ]
     },
     "execution_count": 19,
     "metadata": {},
     "output_type": "execute_result"
    }
   ],
   "source": [
    "type(r_cells)"
   ]
  },
  {
   "cell_type": "code",
   "execution_count": 20,
   "metadata": {},
   "outputs": [
    {
     "data": {
      "text/plain": [
       "110427"
      ]
     },
     "execution_count": 20,
     "metadata": {},
     "output_type": "execute_result"
    }
   ],
   "source": [
    "len(r_cells)"
   ]
  },
  {
   "cell_type": "markdown",
   "metadata": {},
   "source": [
    "#### c. UMAP for similarity calculations"
   ]
  },
  {
   "cell_type": "code",
   "execution_count": 21,
   "metadata": {},
   "outputs": [],
   "source": [
    "UMAP_50 = np.loadtxt(\"./supp_data/umap50.txt\")  # or load your preferred representation"
   ]
  },
  {
   "cell_type": "markdown",
   "metadata": {},
   "source": [
    "#### d. UMAP for visualization"
   ]
  },
  {
   "cell_type": "code",
   "execution_count": 22,
   "metadata": {},
   "outputs": [],
   "source": [
    "UMAP = np.loadtxt(\"./supp_data/umap.txt\")"
   ]
  },
  {
   "cell_type": "markdown",
   "metadata": {},
   "source": [
    "### 3. Enrichment scoring"
   ]
  },
  {
   "cell_type": "markdown",
   "metadata": {},
   "source": [
    "#### i. Define the similarity matrix\n",
    "Here, you use the metric selected in notebook 2."
   ]
  },
  {
   "cell_type": "code",
   "execution_count": 23,
   "metadata": {},
   "outputs": [],
   "source": [
    "metric = \"rbf\"  # replace\n",
    "gamma = 0.8  # only use if laplacian, sigmoid or rbf and replace by wished value\n",
    "S = pairwise_similarities(UMAP_50, r_cells, metric=metric,\n",
    "                          metric_params={\"gamma\": gamma}  # only use if needed\n",
    "                         )"
   ]
  },
  {
   "cell_type": "code",
   "execution_count": 24,
   "metadata": {},
   "outputs": [
    {
     "data": {
      "text/plain": [
       "(110427, 110427)"
      ]
     },
     "execution_count": 24,
     "metadata": {},
     "output_type": "execute_result"
    }
   ],
   "source": [
    "S.shape"
   ]
  },
  {
   "cell_type": "markdown",
   "metadata": {},
   "source": [
    "#### ii. Calculate the enrichment scores\n",
    "I use gene expression values which were nog previously scaled, so I scale them in function. If you use scaled data, set this to false. Also, if you want to identify very lowly and specifically expressed genes, set this to False."
   ]
  },
  {
   "cell_type": "code",
   "execution_count": 25,
   "metadata": {},
   "outputs": [
    {
     "name": "stdout",
     "output_type": "stream",
     "text": [
      "Start enrichment scoring using 160 CPUs\n",
      "Creating process pool\n",
      "Run enrichment scoring\n",
      "Enrichment scoring complete\n"
     ]
    }
   ],
   "source": [
    "escores = calculate_escores(HVG, r_cells, S=S, optim_over=\"rows\", scale_exp=False)"
   ]
  },
  {
   "cell_type": "markdown",
   "metadata": {},
   "source": [
    "The escores dataframe is a dataframe of size genes x r_cells. The order of genes is preserved, so you can map them back to the indices of the genes in the original data. Take care here that in Python, counting starts at 0 and not 1. If you need any help here, let me know. Below, I manually set the gene names to the index."
   ]
  },
  {
   "cell_type": "code",
   "execution_count": 26,
   "metadata": {},
   "outputs": [],
   "source": [
    "escores.index = hvg_names"
   ]
  },
  {
   "cell_type": "code",
   "execution_count": 27,
   "metadata": {},
   "outputs": [
    {
     "data": {
      "text/plain": [
       "Index(['AT1G79840', 'AT3G28540', 'AT5G48130', 'AT1G17400', 'AT1G33280',\n",
       "       'AT4G10350', 'AT1G79580', 'AT1G62500', 'AT1G62510', 'AT2G40260',\n",
       "       'AT2G29330', 'AT3G56220', 'AT3G61930', 'AT1G16390', 'AT1G30750',\n",
       "       'AT3G54220', 'AT4G16270', 'AT5G46600', 'AT5G57620', 'AT5G14750',\n",
       "       'AT5G19530', 'AT2G31310', 'AT1G79430', 'AT4G36410', 'AT5G04080',\n",
       "       'AT2G22850', 'AT1G04240', 'AT1G71050', 'AT1G71930', 'AT3G25710',\n",
       "       'AT4G18780', 'AT2G04025', 'AT2G18380', 'AT5G62940', 'AT3G20880',\n",
       "       'AT3G26120', 'AT5G60810', 'AT3G55550', 'AT3G60650', 'AT1G66470',\n",
       "       'AT4G13390', 'AT5G37800', 'AT5G49270', 'AT5G58010', 'AT2G36120',\n",
       "       'AT4G30450'],\n",
       "      dtype='object')"
      ]
     },
     "execution_count": 27,
     "metadata": {},
     "output_type": "execute_result"
    }
   ],
   "source": [
    "escores.index"
   ]
  },
  {
   "cell_type": "markdown",
   "metadata": {},
   "source": [
    "##### iii. Get signficantly enriched genes\n",
    "The significantly enriched genes can have both negative or positive scores. If the score is positive, a gene is overexpressed in the reference cell. If the score is negative, a gene is repressed in the reference cells."
   ]
  },
  {
   "cell_type": "markdown",
   "metadata": {},
   "source": [
    "Permute the dataframe. This takes a little while."
   ]
  },
  {
   "cell_type": "code",
   "execution_count": 28,
   "metadata": {},
   "outputs": [],
   "source": [
    "n = 100  # how many times to permute the dataframe\n",
    "seed = 42  # set this for reproducibility\n",
    "P = permute(HVG, n=n, seed=seed, axis=0)"
   ]
  },
  {
   "cell_type": "markdown",
   "metadata": {},
   "source": [
    "Calculate scores for the permuted expression values. Make sure to pass the permuted dataframe and keep all other parameters the same."
   ]
  },
  {
   "cell_type": "code",
   "execution_count": 29,
   "metadata": {},
   "outputs": [
    {
     "name": "stdout",
     "output_type": "stream",
     "text": [
      "Start enrichment scoring using 160 CPUs\n",
      "Creating process pool\n",
      "Run enrichment scoring\n",
      "Enrichment scoring complete\n"
     ]
    }
   ],
   "source": [
    "pscores = calculate_escores(P, r_cells, S=S, optim_over=\"rows\", scale_exp=False)"
   ]
  },
  {
   "cell_type": "code",
   "execution_count": 30,
   "metadata": {},
   "outputs": [
    {
     "data": {
      "image/png": "[encoded data removed]",
      "text/plain": [
       "<Figure size 432x288 with 1 Axes>"
      ]
     },
     "metadata": {
      "needs_background": "light"
     },
     "output_type": "display_data"
    }
   ],
   "source": [
    "import seaborn as sns\n",
    "import matplotlib.pyplot as plt\n",
    "sns.distplot(escores.values.ravel(), color=\"orange\")\n",
    "sns.distplot(pscores.values.ravel(), color=\"lightgrey\")\n",
    "plt.show()"
   ]
  },
  {
   "cell_type": "markdown",
   "metadata": {},
   "source": [
    "Determine the significance cut-offs"
   ]
  },
  {
   "cell_type": "code",
   "execution_count": 31,
   "metadata": {},
   "outputs": [],
   "source": [
    "n_sds = 5  # the number of SDs away from the mean for significance\n",
    "cutoffs = sig_interval(pscores, n_sds=n_sds)"
   ]
  },
  {
   "cell_type": "markdown",
   "metadata": {},
   "source": [
    "Get a dictionary of significant genes per cell"
   ]
  },
  {
   "cell_type": "code",
   "execution_count": 32,
   "metadata": {},
   "outputs": [],
   "source": [
    "sigs = sig_dictionary(escores, cutoffs, retrieve=\"cols\")"
   ]
  },
  {
   "cell_type": "code",
   "execution_count": 33,
   "metadata": {},
   "outputs": [],
   "source": [
    "df = pd.DataFrame({key: pd.Series(value) for key, value in sigs.items()})\n",
    "df.to_csv(\"./supp_data/semitones.curated.marker.anno.nsds5.csv\", encoding='utf-8', index=False)"
   ]
  },
  {
   "cell_type": "code",
   "execution_count": 34,
   "metadata": {},
   "outputs": [],
   "source": [
    "escores.to_csv(\"./supp_data/semitones.curated.marker.csv\", encoding='utf-8', index=False)"
   ]
  },
  {
   "cell_type": "code",
   "execution_count": 35,
   "metadata": {},
   "outputs": [],
   "source": [
    "n_sds = 10  # the number of SDs away from the mean for significance\n",
    "cutoffs = sig_interval(pscores, n_sds=n_sds)\n",
    "sigs = sig_dictionary(escores, cutoffs, retrieve=\"cols\")"
   ]
  },
  {
   "cell_type": "code",
   "execution_count": 36,
   "metadata": {},
   "outputs": [],
   "source": [
    "df = pd.DataFrame({key: pd.Series(value) for key, value in sigs.items()})\n",
    "df.to_csv(\"./supp_data/semitones.curated.marker.anno.nsds10.csv\", encoding='utf-8', index=False)"
   ]
  },
  {
   "cell_type": "code",
   "execution_count": 37,
   "metadata": {},
   "outputs": [],
   "source": [
    "n_sds = 15  # the number of SDs away from the mean for significance\n",
    "cutoffs = sig_interval(pscores, n_sds=n_sds)\n",
    "sigs = sig_dictionary(escores, cutoffs, retrieve=\"cols\")"
   ]
  },
  {
   "cell_type": "code",
   "execution_count": 38,
   "metadata": {},
   "outputs": [],
   "source": [
    "df = pd.DataFrame({key: pd.Series(value) for key, value in sigs.items()})\n",
    "df.to_csv(\"./supp_data/semitones.curated.marker.anno.nsds15.csv\", encoding='utf-8', index=False)"
   ]
  },
  {
   "cell_type": "code",
   "execution_count": 39,
   "metadata": {},
   "outputs": [],
   "source": [
    "n_sds = 20  # the number of SDs away from the mean for significance\n",
    "cutoffs = sig_interval(pscores, n_sds=n_sds)\n",
    "sigs = sig_dictionary(escores, cutoffs, retrieve=\"cols\")"
   ]
  },
  {
   "cell_type": "code",
   "execution_count": 40,
   "metadata": {},
   "outputs": [],
   "source": [
    "df = pd.DataFrame({key: pd.Series(value) for key, value in sigs.items()})\n",
    "df.to_csv(\"./supp_data/semitones.curated.marker.anno.nsds20.csv\", encoding='utf-8', index=False)"
   ]
  }
 ],
 "metadata": {
  "kernelspec": {
   "display_name": "Python 3",
   "language": "python",
   "name": "python3"
  },
  "language_info": {
   "codemirror_mode": {
    "name": "ipython",
    "version": 3
   },
   "file_extension": ".py",
   "mimetype": "text/x-python",
   "name": "python",
   "nbconvert_exporter": "python",
   "pygments_lexer": "ipython3",
   "version": "3.7.10"
  }
 },
 "nbformat": 4,
 "nbformat_minor": 4
}
