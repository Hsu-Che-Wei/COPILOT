{
 "cells": [
  {
   "cell_type": "markdown",
   "metadata": {},
   "source": [
    "# Prepare input for SEMITONES (expression matrix)"
   ]
  },
  {
   "cell_type": "markdown",
   "metadata": {},
   "source": [
    "#### Note that we are in Python\n",
    "\n",
    "#### Working directory should contain root atlas Seurat object, which is available on GEO under record GSE152766:\n",
    "\n",
    "    Root_Atlas.rds (or get it by running through notebook 2)"
   ]
  },
  {
   "cell_type": "code",
   "execution_count": 1,
   "metadata": {},
   "outputs": [
    {
     "data": {
      "text/plain": [
       "svmem(total=1082180472832, available=596283752448, percent=44.9, used=480730210304, free=437166096384, active=452687314944, inactive=14842261504, buffers=5361664, cached=164278804480, shared=3707510784, slab=159720357888)"
      ]
     },
     "execution_count": 1,
     "metadata": {},
     "output_type": "execute_result"
    }
   ],
   "source": [
    "import psutil\n",
    "psutil.virtual_memory()"
   ]
  },
  {
   "cell_type": "code",
   "execution_count": 2,
   "metadata": {},
   "outputs": [
    {
     "name": "stdout",
     "output_type": "stream",
     "text": [
      "Running scvelo 0.1.25 (python 3.7.3) on 2020-05-03 17:03.\n"
     ]
    }
   ],
   "source": [
    "#import scrublet as scr\n",
    "import scipy.io\n",
    "import os\n",
    "import scanpy as sc\n",
    "import numpy as np\n",
    "import scipy as sp\n",
    "import pandas as pd\n",
    "import matplotlib as mpl\n",
    "import matplotlib.pyplot as plt\n",
    "from matplotlib import rcParams\n",
    "from matplotlib import colors\n",
    "from matplotlib.colors import ListedColormap\n",
    "import seaborn as sb\n",
    "from gprofiler import GProfiler\n",
    "from scipy import sparse\n",
    "import scvelo as scv\n",
    "scv.logging.print_version()\n",
    "\n",
    "from rpy2.robjects.packages import importr\n",
    "seuratLib = importr('Seurat')\n",
    "\n",
    "import rpy2.rinterface_lib.callbacks\n",
    "import logging\n",
    "\n",
    "from rpy2.robjects import pandas2ri\n",
    "import anndata2ri\n",
    "\n",
    "import h5py\n",
    "import anndata\n",
    "import warnings\n",
    "warnings.filterwarnings('ignore')\n",
    "\n",
    "#from SAM import SAM\n",
    "#from mnnpy import mnn_correct as mnn_cor\n",
    "import utilities as ut\n",
    "import inspect\n",
    "\n",
    "%matplotlib inline"
   ]
  },
  {
   "cell_type": "code",
   "execution_count": 3,
   "metadata": {},
   "outputs": [
    {
     "name": "stdout",
     "output_type": "stream",
     "text": [
      "scanpy==1.4.4.post1 anndata==0.6.22.post1 umap==0.3.9 numpy==1.17.3 scipy==1.3.2 pandas==0.25.0 scikit-learn==0.22 statsmodels==0.10.1 python-igraph==0.7.1 louvain==0.6.1\n"
     ]
    }
   ],
   "source": [
    "# Ignore R warning messages\n",
    "#Note: this can be commented out to get more verbose R output\n",
    "\n",
    "rpy2.rinterface_lib.callbacks.logger.setLevel(logging.ERROR)\n",
    "\n",
    "# Automatically convert rpy2 outputs to pandas dataframes\n",
    "pandas2ri.activate()\n",
    "anndata2ri.activate()\n",
    "%load_ext rpy2.ipython\n",
    "\n",
    "plt.rcParams['figure.figsize']=(15,15) #rescale figures\n",
    "sc.settings.verbosity = 3\n",
    "#sc.set_figure_params(dpi=200, dpi_save=300)\n",
    "sc.logging.print_versions()"
   ]
  },
  {
   "cell_type": "code",
   "execution_count": 4,
   "metadata": {},
   "outputs": [],
   "source": [
    "scv.settings.verbosity = 3  # show errors(0), warnings(1), info(2), hints(3)\n",
    "scv.settings.set_figure_params('scvelo')  # for beautified visualization"
   ]
  },
  {
   "cell_type": "code",
   "execution_count": 5,
   "metadata": {},
   "outputs": [
    {
     "name": "stdout",
     "output_type": "stream",
     "text": [
      "R version 3.6.1 (2019-07-05)\n",
      "Platform: x86_64-conda_cos6-linux-gnu (64-bit)\n",
      "Running under: CentOS Linux 7 (Core)\n",
      "\n",
      "Matrix products: default\n",
      "BLAS/LAPACK: /fast/home/c/chsu/anaconda3/envs/cbpsc/lib/libopenblasp-r0.3.7.so\n",
      "\n",
      "locale:\n",
      " [1] LC_CTYPE=en_US.utf-8       LC_NUMERIC=C              \n",
      " [3] LC_TIME=en_US.utf-8        LC_COLLATE=en_US.utf-8    \n",
      " [5] LC_MONETARY=en_US.utf-8    LC_MESSAGES=en_US.utf-8   \n",
      " [7] LC_PAPER=en_US.utf-8       LC_NAME=C                 \n",
      " [9] LC_ADDRESS=C               LC_TELEPHONE=C            \n",
      "[11] LC_MEASUREMENT=en_US.utf-8 LC_IDENTIFICATION=C       \n",
      "\n",
      "attached base packages:\n",
      "[1] tools     stats     graphics  grDevices utils     datasets  methods  \n",
      "[8] base     \n",
      "\n",
      "other attached packages:\n",
      "[1] plyr_1.8.4         ggplot2_3.2.1      RColorBrewer_1.1-2 Seurat_3.0.2      \n",
      "\n",
      "loaded via a namespace (and not attached):\n",
      " [1] httr_1.4.1          tidyr_1.0.0         viridisLite_0.3.0  \n",
      " [4] jsonlite_1.6        splines_3.6.1       lsei_1.2-0         \n",
      " [7] R.utils_2.9.1       gtools_3.8.1        Rdpack_0.11-0      \n",
      "[10] assertthat_0.2.1    ggrepel_0.8.1       globals_0.12.4     \n",
      "[13] backports_1.1.5     pillar_1.4.2        lattice_0.20-38    \n",
      "[16] reticulate_1.13     glue_1.3.1          digest_0.6.23      \n",
      "[19] SDMTools_1.1-221.2  colorspace_1.4-1    cowplot_1.0.0      \n",
      "[22] htmltools_0.4.0     Matrix_1.2-17       R.oo_1.23.0        \n",
      "[25] pkgconfig_2.0.3     bibtex_0.4.2        tsne_0.1-3         \n",
      "[28] listenv_0.8.0       purrr_0.3.3         scales_1.1.0       \n",
      "[31] RANN_2.6.1          gdata_2.18.0        Rtsne_0.15         \n",
      "[34] tibble_2.1.3        withr_2.1.2         ROCR_1.0-7         \n",
      "[37] pbapply_1.4-2       lazyeval_0.2.2      survival_2.44-1.1  \n",
      "[40] magrittr_1.5        crayon_1.3.4        R.methodsS3_1.7.1  \n",
      "[43] future_1.15.1       nlme_3.1-141        MASS_7.3-51.4      \n",
      "[46] gplots_3.0.1.1      ica_1.0-2           fitdistrplus_1.0-14\n",
      "[49] data.table_1.12.6   gbRd_0.4-11         lifecycle_0.1.0    \n",
      "[52] stringr_1.4.0       plotly_4.9.1        munsell_0.5.0      \n",
      "[55] cluster_2.1.0       irlba_2.3.3         compiler_3.6.1     \n",
      "[58] rsvd_1.0.2          caTools_1.17.1.3    rlang_0.4.2        \n",
      "[61] grid_3.6.1          ggridges_0.5.1      htmlwidgets_1.5.1  \n",
      "[64] igraph_1.2.4.2      bitops_1.0-6        npsurv_0.4-0       \n",
      "[67] gtable_0.3.0        codetools_0.2-16    reshape2_1.4.3     \n",
      "[70] R6_2.4.1            gridExtra_2.3       zoo_1.8-6          \n",
      "[73] dplyr_0.8.3         future.apply_1.3.0  zeallot_0.1.0      \n",
      "[76] KernSmooth_2.23-16  metap_1.1           ape_5.3            \n",
      "[79] stringi_1.4.3       parallel_3.6.1      Rcpp_1.0.3         \n",
      "[82] sctransform_0.2.0   png_0.1-7           vctrs_0.2.0        \n",
      "[85] tidyselect_0.2.5    lmtest_0.9-37      \n"
     ]
    }
   ],
   "source": [
    "%%R\n",
    "# Load libraries from correct lib Paths for my environment - ignore this!\n",
    ".libPaths(.libPaths()[c(3,2,1)])\n",
    "\n",
    "library(RColorBrewer)\n",
    "library(ggplot2)\n",
    "library(plyr)\n",
    "library(Seurat)\n",
    "sessionInfo()"
   ]
  },
  {
   "cell_type": "code",
   "execution_count": 237,
   "metadata": {},
   "outputs": [],
   "source": [
    "%%R -o normalized_counts\n",
    "\n",
    "rc.integrated <- readRDS('./Root_Atlas.rds')\n",
    "# If you don't have enough memory, run on subsets of matrix and then comcatenate.\n",
    "normalized_counts <- as.matrix(rc.integrated@assays$SCT@data)"
   ]
  },
  {
   "cell_type": "code",
   "execution_count": 238,
   "metadata": {},
   "outputs": [],
   "source": [
    "normalized_counts = sparse.csr_matrix(normalized_counts, dtype=np.float32)"
   ]
  },
  {
   "cell_type": "code",
   "execution_count": 243,
   "metadata": {},
   "outputs": [],
   "source": [
    "# Load modules\n",
    "from SEMITONES.support_funcs import load_sparse_h5, save_sparse_h5"
   ]
  },
  {
   "cell_type": "code",
   "execution_count": 244,
   "metadata": {},
   "outputs": [],
   "source": [
    "# Save the expression matrix as h5 format\n",
    "save_sparse_h5(normalized_counts, 'counts', \"./supp_data/Root_Atlas_SCT_expr.h5ad\")"
   ]
  }
 ],
 "metadata": {
  "kernelspec": {
   "display_name": "Python 3",
   "language": "python",
   "name": "python3"
  },
  "language_info": {
   "codemirror_mode": {
    "name": "ipython",
    "version": 3
   },
   "file_extension": ".py",
   "mimetype": "text/x-python",
   "name": "python",
   "nbconvert_exporter": "python",
   "pygments_lexer": "ipython3",
   "version": "3.7.10"
  },
  "toc": {
   "base_numbering": "0",
   "nav_menu": {},
   "number_sections": true,
   "sideBar": true,
   "skip_h1_title": false,
   "title_cell": "Table of Contents",
   "title_sidebar": "Contents",
   "toc_cell": false,
   "toc_position": {
    "height": "calc(100% - 180px)",
    "left": "10px",
    "top": "150px",
    "width": "302px"
   },
   "toc_section_display": true,
   "toc_window_display": true
  },
  "varInspector": {
   "cols": {
    "lenName": 16,
    "lenType": 16,
    "lenVar": 40
   },
   "kernels_config": {
    "python": {
     "delete_cmd_postfix": "",
     "delete_cmd_prefix": "del ",
     "library": "var_list.py",
     "varRefreshCmd": "print(var_dic_list())"
    },
    "r": {
     "delete_cmd_postfix": ") ",
     "delete_cmd_prefix": "rm(",
     "library": "var_list.r",
     "varRefreshCmd": "cat(var_dic_list()) "
    }
   },
   "types_to_exclude": [
    "module",
    "function",
    "builtin_function_or_method",
    "instance",
    "_Feature"
   ],
   "window_display": false
  }
 },
 "nbformat": 4,
 "nbformat_minor": 4
}
