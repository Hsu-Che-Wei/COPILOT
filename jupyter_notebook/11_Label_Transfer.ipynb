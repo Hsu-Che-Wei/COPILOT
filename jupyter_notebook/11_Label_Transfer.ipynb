{
 "cells": [
  {
   "cell_type": "markdown",
   "metadata": {},
   "source": [
    "# Label transfer"
   ]
  },
  {
   "cell_type": "markdown",
   "metadata": {},
   "source": [
    "#### Working directory should contain root atlas Seurat object, which is available on GEO under record GSE152766:\n",
    "\n",
    "    Root_Atlas.rds (or get it by running through notebook 2, 3, 4, 5, 6, 7, 8, 9 & 10)\n",
    "\n",
    "#### Note we put all the Seurat objects of sample under subdirectory COPILOT_RDS/\n",
    "\n",
    "#### Note that this code only guaranteed to work with Seurat v3.15 - 3.99\n"
   ]
  },
  {
   "cell_type": "code",
   "execution_count": 1,
   "metadata": {},
   "outputs": [],
   "source": [
    "rm(list=ls())\n",
    "# Set the working directory to where folders named after the samples are located. \n",
    "# The folder contains spliced.mtx, unspliced.mtx, barcodes and gene id files, and json files produced by scKB that documents the sequencing stats. \n",
    "setwd(\"/scratch/AG_Ohler/CheWei/scKB\")"
   ]
  },
  {
   "cell_type": "code",
   "execution_count": 2,
   "metadata": {},
   "outputs": [],
   "source": [
    "# Load libraries\n",
    "suppressMessages(library(Seurat))"
   ]
  },
  {
   "cell_type": "code",
   "execution_count": 3,
   "metadata": {},
   "outputs": [
    {
     "data": {
      "text/plain": [
       "R version 3.6.1 (2019-07-05)\n",
       "Platform: x86_64-conda_cos6-linux-gnu (64-bit)\n",
       "Running under: CentOS Linux 7 (Core)\n",
       "\n",
       "Matrix products: default\n",
       "BLAS/LAPACK: /fast/home/c/chsu/anaconda3/envs/seu314/lib/libopenblasp-r0.3.9.so\n",
       "\n",
       "locale:\n",
       " [1] LC_CTYPE=en_US.utf-8       LC_NUMERIC=C              \n",
       " [3] LC_TIME=en_US.utf-8        LC_COLLATE=en_US.utf-8    \n",
       " [5] LC_MONETARY=en_US.utf-8    LC_MESSAGES=en_US.utf-8   \n",
       " [7] LC_PAPER=en_US.utf-8       LC_NAME=C                 \n",
       " [9] LC_ADDRESS=C               LC_TELEPHONE=C            \n",
       "[11] LC_MEASUREMENT=en_US.utf-8 LC_IDENTIFICATION=C       \n",
       "\n",
       "attached base packages:\n",
       "[1] stats     graphics  grDevices utils     datasets  methods   base     \n",
       "\n",
       "other attached packages:\n",
       "[1] Seurat_3.1.5\n",
       "\n",
       "loaded via a namespace (and not attached):\n",
       " [1] httr_1.4.1         tidyr_1.1.0        jsonlite_1.6.1     viridisLite_0.3.0 \n",
       " [5] splines_3.6.1      leiden_0.3.3       ggrepel_0.8.2      globals_0.12.5    \n",
       " [9] pillar_1.4.4       lattice_0.20-41    glue_1.4.1         reticulate_1.16   \n",
       "[13] uuid_0.1-4         digest_0.6.25      RColorBrewer_1.1-2 colorspace_1.4-1  \n",
       "[17] cowplot_1.0.0      htmltools_0.4.0    Matrix_1.2-18      plyr_1.8.6        \n",
       "[21] pkgconfig_2.0.3    tsne_0.1-3         listenv_0.8.0      purrr_0.3.4       \n",
       "[25] patchwork_1.0.0    scales_1.1.1       RANN_2.6.1         Rtsne_0.15        \n",
       "[29] tibble_3.0.1       generics_0.0.2     ggplot2_3.3.1      ellipsis_0.3.1    \n",
       "[33] repr_1.1.0         ROCR_1.0-11        pbapply_1.4-2      lazyeval_0.2.2    \n",
       "[37] survival_3.1-12    magrittr_1.5       crayon_1.3.4       evaluate_0.14     \n",
       "[41] future_1.17.0      nlme_3.1-148       MASS_7.3-51.6      ica_1.0-2         \n",
       "[45] tools_3.6.1        fitdistrplus_1.1-1 data.table_1.12.8  lifecycle_0.2.0   \n",
       "[49] stringr_1.4.0      plotly_4.9.2.1     munsell_0.5.0      cluster_2.1.0     \n",
       "[53] irlba_2.3.3        compiler_3.6.1     rsvd_1.0.3         rlang_0.4.6       \n",
       "[57] grid_3.6.1         ggridges_0.5.2     pbdZMQ_0.3-3       IRkernel_1.1      \n",
       "[61] RcppAnnoy_0.0.16   rappdirs_0.3.1     htmlwidgets_1.5.1  igraph_1.2.5      \n",
       "[65] base64enc_0.1-3    gtable_0.3.0       codetools_0.2-16   reshape2_1.4.4    \n",
       "[69] R6_2.4.1           gridExtra_2.3      zoo_1.8-8          dplyr_1.0.0       \n",
       "[73] uwot_0.1.8         future.apply_1.5.0 KernSmooth_2.23-17 ape_5.4           \n",
       "[77] stringi_1.4.6      parallel_3.6.1     IRdisplay_0.7.0    Rcpp_1.0.4.6      \n",
       "[81] sctransform_0.2.1  vctrs_0.3.1        png_0.1-7          tidyselect_1.1.0  \n",
       "[85] lmtest_0.9-37     "
      ]
     },
     "metadata": {},
     "output_type": "display_data"
    }
   ],
   "source": [
    "sessionInfo()"
   ]
  },
  {
   "cell_type": "code",
   "execution_count": 5,
   "metadata": {},
   "outputs": [],
   "source": [
    "rc.integrated <- readRDS('./Root_Atlas.rds')"
   ]
  },
  {
   "cell_type": "code",
   "execution_count": 6,
   "metadata": {},
   "outputs": [],
   "source": [
    "# Function for reading in Seurat object\n",
    "read_seu <- function(dir) { \n",
    "  seu <- readRDS(dir) \n",
    "  return(seu)\n",
    "}"
   ]
  },
  {
   "cell_type": "code",
   "execution_count": 7,
   "metadata": {},
   "outputs": [],
   "source": [
    "# Function for label transfer\n",
    "label_transfer_init <- function(sample.name){\n",
    "    # Read Seurat object\n",
    "    seu <-read_seu(dir = paste0(\"./supp_data/COPILOT_RDS/\",sample.name,\"_COPILOT.rds\"))\n",
    "    # Find transfer anchors\n",
    "    lt.anchors <- FindTransferAnchors(reference = rc.integrated, query = seu, normalization.method = \"SCT\", npcs = 50 ,dims = 1:50)\n",
    "    # Transfer the data \"time.celltype.anno\"\n",
    "    predictions <- TransferData(anchorset = lt.anchors, refdata = rc.integrated$time.celltype.anno, dims = 1:50, weight.reduction = \"pcaproject\")\n",
    "    seu <- AddMetaData(seu, metadata = predictions)\n",
    "    seu@meta.data$time.celltype.anno <- seu@meta.data$predicted.id\n",
    "    # Transfer the data \"celltype.anno\"\n",
    "    predictions <- TransferData(anchorset = lt.anchors, refdata = rc.integrated$celltype.anno, dims = 1:50, weight.reduction = \"pcaproject\")\n",
    "    seu <- AddMetaData(seu, metadata = predictions)\n",
    "    seu@meta.data$celltype.anno <- seu@meta.data$predicted.id\n",
    "    # Transfer the data \"time.anno\"\n",
    "    predictions <- TransferData(anchorset = lt.anchors, refdata = rc.integrated$time.anno, dims = 1:50, weight.reduction = \"pcaproject\")\n",
    "    seu <- AddMetaData(seu, metadata = predictions)\n",
    "    seu@meta.data$time.anno <- seu@meta.data$predicted.id\n",
    "    # Transfer the data \"consensus.time.group\"\n",
    "    predictions <- TransferData(anchorset = lt.anchors, refdata = rc.integrated$consensus.time.group, dims = 1:50, weight.reduction = \"pcaproject\")\n",
    "    seu <- AddMetaData(seu, metadata = predictions)\n",
    "    seu@meta.data$consensus.time.group <- seu@meta.data$predicted.id\n",
    "    # Save Seurat object\n",
    "    saveRDS(seu, file = paste0(\"./supp_data/COPILOT_RDS/\",sample.name,\"_COPILOT.rds\"))\n",
    "    # Save Anchors\n",
    "    save(lt.anchors, file=paste0(\"./supp_data/COPILOT_RDS/\",sample.name,\"_lt_anchors.RData\"))\n",
    "}"
   ]
  },
  {
   "cell_type": "code",
   "execution_count": 8,
   "metadata": {},
   "outputs": [],
   "source": [
    "# List of sample which labels are going to transferred from atlas\n",
    "sample.list <- c(\"minus\", \"plus\", \"sc_17\", \"sc_18\", \"sc_19\", \"sc_28\", \"sc_29\", \"sc_35\", \"sc_55\", \"sc_56\", \"sc_57\", \"sc_58\", \"sc_59\", \"sc_60\", \"sc_61\", \"sc_62\", \"sc_63\", \"sc_64\", \"sc_66\")"
   ]
  },
  {
   "cell_type": "code",
   "execution_count": 9,
   "metadata": {},
   "outputs": [],
   "source": [
    "# Run label transfer\n",
    "for (i in 1:length(sample.list)){\n",
    " label_transfer_init(sample.list[i])\n",
    "}"
   ]
  }
 ],
 "metadata": {
  "kernelspec": {
   "display_name": "R",
   "language": "R",
   "name": "ir"
  },
  "language_info": {
   "codemirror_mode": "r",
   "file_extension": ".r",
   "mimetype": "text/x-r-source",
   "name": "R",
   "pygments_lexer": "r",
   "version": "4.0.3"
  }
 },
 "nbformat": 4,
 "nbformat_minor": 4
}
