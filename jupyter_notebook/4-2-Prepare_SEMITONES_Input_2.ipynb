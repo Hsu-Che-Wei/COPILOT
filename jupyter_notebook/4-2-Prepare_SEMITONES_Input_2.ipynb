{
 "cells": [
  {
   "cell_type": "markdown",
   "metadata": {},
   "source": [
    "# Prepare input for SEMITONES(UMAPs, gene and cell ids)"
   ]
  },
  {
   "cell_type": "markdown",
   "metadata": {},
   "source": [
    "#### Working directory should contain root atlas Seurat object, which is available on GEO under record GSE152766:\n",
    "\n",
    "    Root_Atlas.rds (or get it by running through notebook 2)"
   ]
  },
  {
   "cell_type": "code",
   "execution_count": 1,
   "metadata": {},
   "outputs": [],
   "source": [
    "rm(list=ls())\n",
    "# Set the working directory to where folders named after the samples are located. \n",
    "# The folder contains spliced.mtx, unspliced.mtx, barcodes and gene id files, and json files produced by scKB that documents the sequencing stats. \n",
    "setwd(\"/scratch/AG_Ohler/CheWei/scKB\")"
   ]
  },
  {
   "cell_type": "code",
   "execution_count": 2,
   "metadata": {},
   "outputs": [],
   "source": [
    "# Load libraries\n",
    "suppressMessages(library(Seurat))"
   ]
  },
  {
   "cell_type": "code",
   "execution_count": 3,
   "metadata": {},
   "outputs": [
    {
     "data": {
      "text/plain": [
       "R version 3.6.1 (2019-07-05)\n",
       "Platform: x86_64-conda_cos6-linux-gnu (64-bit)\n",
       "Running under: CentOS Linux 7 (Core)\n",
       "\n",
       "Matrix products: default\n",
       "BLAS/LAPACK: /fast/home/c/chsu/anaconda3/envs/seu314/lib/libopenblasp-r0.3.9.so\n",
       "\n",
       "locale:\n",
       " [1] LC_CTYPE=en_US.utf-8       LC_NUMERIC=C              \n",
       " [3] LC_TIME=en_US.utf-8        LC_COLLATE=en_US.utf-8    \n",
       " [5] LC_MONETARY=en_US.utf-8    LC_MESSAGES=en_US.utf-8   \n",
       " [7] LC_PAPER=en_US.utf-8       LC_NAME=C                 \n",
       " [9] LC_ADDRESS=C               LC_TELEPHONE=C            \n",
       "[11] LC_MEASUREMENT=en_US.utf-8 LC_IDENTIFICATION=C       \n",
       "\n",
       "attached base packages:\n",
       "[1] stats     graphics  grDevices utils     datasets  methods   base     \n",
       "\n",
       "other attached packages:\n",
       "[1] Seurat_3.1.5\n",
       "\n",
       "loaded via a namespace (and not attached):\n",
       " [1] httr_1.4.1         tidyr_1.1.0        jsonlite_1.6.1     viridisLite_0.3.0 \n",
       " [5] splines_3.6.1      leiden_0.3.3       ggrepel_0.8.2      globals_0.12.5    \n",
       " [9] pillar_1.4.4       lattice_0.20-41    glue_1.4.1         reticulate_1.16   \n",
       "[13] uuid_0.1-4         digest_0.6.25      RColorBrewer_1.1-2 colorspace_1.4-1  \n",
       "[17] cowplot_1.0.0      htmltools_0.4.0    Matrix_1.2-18      plyr_1.8.6        \n",
       "[21] pkgconfig_2.0.3    tsne_0.1-3         listenv_0.8.0      purrr_0.3.4       \n",
       "[25] patchwork_1.0.0    scales_1.1.1       RANN_2.6.1         Rtsne_0.15        \n",
       "[29] tibble_3.0.1       generics_0.0.2     ggplot2_3.3.1      ellipsis_0.3.1    \n",
       "[33] repr_1.1.0         ROCR_1.0-11        pbapply_1.4-2      lazyeval_0.2.2    \n",
       "[37] survival_3.1-12    magrittr_1.5       crayon_1.3.4       evaluate_0.14     \n",
       "[41] future_1.17.0      nlme_3.1-148       MASS_7.3-51.6      ica_1.0-2         \n",
       "[45] tools_3.6.1        fitdistrplus_1.1-1 data.table_1.12.8  lifecycle_0.2.0   \n",
       "[49] stringr_1.4.0      plotly_4.9.2.1     munsell_0.5.0      cluster_2.1.0     \n",
       "[53] irlba_2.3.3        compiler_3.6.1     rsvd_1.0.3         rlang_0.4.6       \n",
       "[57] grid_3.6.1         ggridges_0.5.2     pbdZMQ_0.3-3       IRkernel_1.1      \n",
       "[61] RcppAnnoy_0.0.16   rappdirs_0.3.1     htmlwidgets_1.5.1  igraph_1.2.5      \n",
       "[65] base64enc_0.1-3    gtable_0.3.0       codetools_0.2-16   reshape2_1.4.4    \n",
       "[69] R6_2.4.1           gridExtra_2.3      zoo_1.8-8          dplyr_1.0.0       \n",
       "[73] uwot_0.1.8         future.apply_1.5.0 KernSmooth_2.23-17 ape_5.4           \n",
       "[77] stringi_1.4.6      parallel_3.6.1     IRdisplay_0.7.0    Rcpp_1.0.4.6      \n",
       "[81] sctransform_0.2.1  vctrs_0.3.1        png_0.1-7          tidyselect_1.1.0  \n",
       "[85] lmtest_0.9-37     "
      ]
     },
     "metadata": {},
     "output_type": "display_data"
    }
   ],
   "source": [
    "sessionInfo()"
   ]
  },
  {
   "cell_type": "code",
   "execution_count": 5,
   "metadata": {},
   "outputs": [],
   "source": [
    "# Load atlas\n",
    "rc.integrated <- readRDS('./Root_Atlas.rds')"
   ]
  },
  {
   "cell_type": "code",
   "execution_count": 6,
   "metadata": {},
   "outputs": [],
   "source": [
    "# Save 50 UMAP dimensions \n",
    "write.table(format(as.matrix(rc.integrated@reductions$umap_50@cell.embeddings), scientific = TRUE, digits = 20),file = \"./supp_data/umap50.txt\", sep = \"\\t\", row.names = FALSE, col.names = FALSE, quote = FALSE)"
   ]
  },
  {
   "cell_type": "code",
   "execution_count": 7,
   "metadata": {},
   "outputs": [],
   "source": [
    "# Save 2D UMAP\n",
    "write.table(format(as.matrix(rc.integrated@reductions$umap_2D@cell.embeddings), scientific = TRUE, digits = 20),file = \"./supp_data/umap.txt\", sep = \"\\t\", row.names = FALSE, col.names = FALSE, quote = FALSE)"
   ]
  },
  {
   "cell_type": "code",
   "execution_count": 8,
   "metadata": {},
   "outputs": [],
   "source": [
    "# Save Gene ids\n",
    "DefaultAssays(rc.integrated) <- \"SCT\"\n",
    "write.table(rownames(rc.integrated),file = \"./supp_data/hvg_ids.txt\", sep = \"\\t\", row.names = FALSE, col.names = FALSE, quote = FALSE);"
   ]
  }
 ],
 "metadata": {
  "kernelspec": {
   "display_name": "R",
   "language": "R",
   "name": "ir"
  },
  "language_info": {
   "codemirror_mode": "r",
   "file_extension": ".r",
   "mimetype": "text/x-r-source",
   "name": "R",
   "pygments_lexer": "r",
   "version": "4.0.3"
  }
 },
 "nbformat": 4,
 "nbformat_minor": 4
}
